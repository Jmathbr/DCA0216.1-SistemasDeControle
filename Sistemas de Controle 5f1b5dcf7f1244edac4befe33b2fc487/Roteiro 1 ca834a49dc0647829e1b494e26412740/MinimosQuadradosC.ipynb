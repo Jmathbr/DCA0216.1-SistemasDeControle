{
  "nbformat": 4,
  "nbformat_minor": 0,
  "metadata": {
    "colab": {
      "name": "MinimosQuadradosC.ipynb",
      "provenance": [],
      "collapsed_sections": []
    },
    "kernelspec": {
      "name": "python3",
      "display_name": "Python 3"
    },
    "language_info": {
      "name": "python"
    }
  },
  "cells": [
    {
      "cell_type": "markdown",
      "source": [
        "#Minimos Quadrados\n"
      ],
      "metadata": {
        "id": "lANF3PaOSA3J"
      }
    },
    {
      "cell_type": "markdown",
      "source": [
        "##Importação dos dados para o DataBase\n",
        "\n"
      ],
      "metadata": {
        "id": "DA3lreqyXbvc"
      }
    },
    {
      "cell_type": "code",
      "source": [
        "import numpy as np\n",
        "import matplotlib.pyplot as plt\n",
        "import pandas as pd\n",
        "import seaborn as sns\n",
        "from google.colab import drive\n",
        "from sklearn.linear_model import LinearRegression\n",
        "drive.mount('/content/drive/')"
      ],
      "metadata": {
        "colab": {
          "base_uri": "https://localhost:8080/"
        },
        "id": "MGQhuF3eXibd",
        "outputId": "7ad3ae26-e6d5-4b08-f648-15b92eb46ead"
      },
      "execution_count": null,
      "outputs": [
        {
          "output_type": "stream",
          "name": "stdout",
          "text": [
            "Mounted at /content/drive/\n"
          ]
        }
      ]
    },
    {
      "cell_type": "code",
      "source": [
        "routh = \"/content/drive/MyDrive/Sistemas De Controle/Roteiro I/Lab_01B/LAB_1B - Página1.csv\"\n",
        "df = pd.read_csv(routh, ',', na_values = '?')"
      ],
      "metadata": {
        "colab": {
          "base_uri": "https://localhost:8080/"
        },
        "id": "jHfHnfTYXk9r",
        "outputId": "7404d10f-2500-48cd-92bf-d55d1311cd52"
      },
      "execution_count": null,
      "outputs": [
        {
          "output_type": "stream",
          "name": "stderr",
          "text": [
            "/usr/local/lib/python3.7/dist-packages/IPython/core/interactiveshell.py:2882: FutureWarning: In a future version of pandas all arguments of read_csv except for the argument 'filepath_or_buffer' will be keyword-only\n",
            "  exec(code_obj, self.user_global_ns, self.user_ns)\n"
          ]
        }
      ]
    },
    {
      "cell_type": "markdown",
      "source": [
        "##Tratamento dos dados:"
      ],
      "metadata": {
        "id": "r6F2nyRJYx_e"
      }
    },
    {
      "cell_type": "code",
      "source": [
        "med = df['Média.1']\n",
        "med = np.delete(np.array(med),0)\n",
        "\n",
        "it1 = df['1ª medição.1']\n",
        "it1 = np.delete(np.array(it1),0)\n",
        "\n",
        "it2 = df['2ª medição.1']\n",
        "it2 = np.delete(np.array(it2),0)\n",
        "\n",
        "it3 = df['3ª medição.1']\n",
        "it3 = np.delete(np.array(it3),0)\n",
        "\n",
        "it4 = df['4ª medição.1']\n",
        "it4 = np.delete(np.array(it4),0)\n",
        "\n",
        "it5 = df['5ª medição.1']\n",
        "it5 = np.delete(np.array(it5),0)\n",
        "\n",
        "valY = df[\"Altura h \\n(cm)\"]\n",
        "valY = np.delete(np.array(valY),0)"
      ],
      "metadata": {
        "id": "M9DC7P_5Xpfb"
      },
      "execution_count": null,
      "outputs": []
    },
    {
      "cell_type": "markdown",
      "source": [
        "##Atribuição de Dados "
      ],
      "metadata": {
        "id": "9WQq2nd-bH3L"
      }
    },
    {
      "cell_type": "code",
      "source": [
        "def Tdata(vet):\n",
        "  vetS = []\n",
        "  for i in range(len(vet)):\n",
        "    vetS.append(float(str(vet[i]).replace(',','.')))\n",
        "  return vetS"
      ],
      "metadata": {
        "id": "88sX2O3_X5UD"
      },
      "execution_count": null,
      "outputs": []
    },
    {
      "cell_type": "code",
      "source": [
        "x = Tdata(med)\n",
        "y = valY\n",
        "\n",
        "x1 = Tdata(it1);\n",
        "x2 = Tdata(it2);\n",
        "x3 = Tdata(it3);\n",
        "x4 = Tdata(it4);\n",
        "x5 = Tdata(it5);"
      ],
      "metadata": {
        "id": "qAPt4AHUXq5Z"
      },
      "execution_count": null,
      "outputs": []
    },
    {
      "cell_type": "markdown",
      "source": [
        "\n",
        "\n",
        "##Funções para utilizar o MNQ:"
      ],
      "metadata": {
        "id": "f6F4Zw-9VRYQ"
      }
    },
    {
      "cell_type": "code",
      "source": [
        "def f(x,a,b):\n",
        "  z = [];\n",
        "  for i in range(len(x)):\n",
        "    z.append(a*x[i]+b);\n",
        "  return z\n",
        "\n",
        "def err2(z,y):\n",
        "  err = [];\n",
        "  for i in range(len(x)):\n",
        "    err.append((y[i] - z[i])*(y[i] - z[i]));\n",
        "\n",
        "  for k in range(len(err)):\n",
        "    err[k]= np.format_float_scientific(err[k], precision = 3, exp_digits=1)\n",
        "    err[k] = float(err[k])\n",
        "  \n",
        "  #err = sum(err);\n",
        "  return err;\n",
        "\n",
        "def MNQ(x,y):\n",
        "  X = np.zeros((len(x),2))\n",
        "  for (i, j) in enumerate(x):\n",
        "    X[i] = np.array([j,1])\n",
        "\n",
        "  a,b = np.linalg.inv(X.transpose().dot(X)).dot(X.transpose().dot(y))\n",
        "\n",
        "  z = f(x,a,b)\n",
        "  err = err2(z,y)\n",
        "\n",
        "  return z, err, a, b"
      ],
      "metadata": {
        "id": "sbFpIZZQQpCr"
      },
      "execution_count": null,
      "outputs": []
    },
    {
      "cell_type": "markdown",
      "source": [
        "##Teste:\n"
      ],
      "metadata": {
        "id": "xUBZnffxVhWH"
      }
    },
    {
      "cell_type": "code",
      "source": [
        "X = np.zeros((len(x),2))\n",
        "for (i, j) in enumerate(x):\n",
        "  X[i] = np.array([j,1])\n",
        "LinearRegression().fit(X,y).coef_"
      ],
      "metadata": {
        "colab": {
          "base_uri": "https://localhost:8080/"
        },
        "id": "FiQiu0R4GY86",
        "outputId": "e8298426-5d98-4f24-e22d-67a246610965"
      },
      "execution_count": null,
      "outputs": [
        {
          "output_type": "execute_result",
          "data": {
            "text/plain": [
              "array([6.08014056, 0.        ])"
            ]
          },
          "metadata": {},
          "execution_count": 8
        }
      ]
    },
    {
      "cell_type": "code",
      "source": [
        "R_MNQ = MNQ(x,y)\n",
        "\n",
        "x1R_MNQ = MNQ(x1,y)\n",
        "x2R_MNQ = MNQ(x2,y)\n",
        "x3R_MNQ = MNQ(x3,y)\n",
        "x4R_MNQ = MNQ(x4,y)\n",
        "x5R_MNQ = MNQ(x5,y)"
      ],
      "metadata": {
        "id": "s2wJ2MLvSgKQ"
      },
      "execution_count": null,
      "outputs": []
    },
    {
      "cell_type": "markdown",
      "source": [
        "##Gráfico:"
      ],
      "metadata": {
        "id": "SMM7wvvgVv96"
      }
    },
    {
      "cell_type": "code",
      "source": [
        "fig = plt.figure(figsize= (16,12))\n",
        "#plt.title('Regressão Linear',     fontsize = 18, weight=\"bold\")\n",
        "plt.ylabel('Altura (cm)',      fontsize = 14, weight=\"bold\")\n",
        "plt.xlabel('Tensão de saída (V)', fontsize = 14, weight=\"bold\")\n",
        "plt.grid(True)\n",
        "\n",
        "plt.xlim(0.5,4.5)\n",
        "plt.ylim(0,30)\n",
        "plt.xticks(np.linspace(0.5,4.5,50),rotation=45)\n",
        "\n",
        "plt.plot(x, R_MNQ[0],'b--')\n",
        "\n",
        "plt.plot(x,y,\"ro\",markersize=10)\n",
        "plt.plot(x1,y,'gx',markersize=10)\n",
        "plt.plot(x2,y,'gx',markersize=10)\n",
        "plt.plot(x3,y,'gx',markersize=10)\n",
        "plt.plot(x4,y,'gx',markersize=10)\n",
        "plt.plot(x5,y,'gx',markersize=10)\n",
        "\n",
        "plt.plot(x,y,\"ro\",markersize=12)\n",
        "\n",
        "plt.legend(['Regressão Linear', 'Dados observados', 'Iterações'], loc=0)\n",
        "\n",
        "plt.text(0.5,-3,(\"Coeficiente Angular (a) : \"    + str(np.format_float_scientific(R_MNQ[2], precision = 5, exp_digits=1)))  , fontsize = 10, weight=\"bold\")\n",
        "plt.text(0.5,-4,(\"Coeficiente Linear (b)    : \"  + str(np.format_float_scientific(R_MNQ[3], precision = 5, exp_digits=1)))  , fontsize = 10, weight=\"bold\")\n",
        "plt.text(0.5,-5,(\"Erro Quadratico             : \" +    (np.format_float_scientific(sum(R_MNQ[1]), precision = 3, exp_digits=1)))  , fontsize = 10, weight=\"bold\")\n",
        "#plt.savefig('test.png')"
      ],
      "metadata": {
        "colab": {
          "base_uri": "https://localhost:8080/",
          "height": 816
        },
        "id": "zhokq4G3V8ST",
        "outputId": "fdf7e5b3-8a30-4713-d5ad-d10553739c36"
      },
      "execution_count": null,
      "outputs": [
        {
          "output_type": "execute_result",
          "data": {
            "text/plain": [
              "Text(0.5, -5, 'Erro Quadratico             : 1.502e-2')"
            ]
          },
          "metadata": {},
          "execution_count": 10
        },
        {
          "output_type": "display_data",
          "data": {
            "text/plain": [
              "<Figure size 1152x864 with 1 Axes>"
            ],
            "image/png": "[encoded data removed]"
          },
          "metadata": {
            "needs_background": "light"
          }
        }
      ]
    },
    {
      "cell_type": "code",
      "source": [
        "fig = plt.figure(figsize= (16,12))\n",
        "#plt.title('Regressão Linear',     fontsize = 18, weight=\"bold\")\n",
        "plt.ylabel('Altura (cm)',      fontsize = 14, weight=\"bold\")\n",
        "plt.xlabel('Tensão de saída (V)', fontsize = 14, weight=\"bold\")\n",
        "plt.grid(True)\n",
        "\n",
        "plt.xlim(0.5,4.5)\n",
        "plt.ylim(0,30)\n",
        "\n",
        "plt.xticks(np.linspace(0.5,4.5,50),rotation=45)\n",
        "plt.plot(x1, x1R_MNQ[0],'r--')\n",
        "plt.plot(x2, x2R_MNQ[0],'g--')\n",
        "plt.plot(x3, x3R_MNQ[0],'b--')\n",
        "plt.plot(x4, x4R_MNQ[0],'y--')\n",
        "plt.plot(x5, x5R_MNQ[0],'c--')\n",
        "\n",
        "\n",
        "plt.legend(['1° Interação', '2° Interação', '3° Interação', '4° Interação', '5° Interação'], loc=0)\n",
        "plt.text(0.5,-2,(\"Erro Quadratico 1° Interação: \" +    (np.format_float_scientific(sum(x1R_MNQ[1]), precision = 3, exp_digits=1)))  , fontsize = 9)\n",
        "plt.text(0.5,-3,(\"Erro Quadratico 2° Interação: \" +    (np.format_float_scientific(sum(x2R_MNQ[1]), precision = 3, exp_digits=1)))  , fontsize = 9)\n",
        "plt.text(0.5,-4,(\"Erro Quadratico 3° Interação: \" +    (np.format_float_scientific(sum(x3R_MNQ[1]), precision = 3, exp_digits=1)))  , fontsize = 9)\n",
        "plt.text(0.5,-5,(\"Erro Quadratico 4° Interação: \" +    (np.format_float_scientific(sum(x4R_MNQ[1]), precision = 3, exp_digits=1)))  , fontsize = 9)\n",
        "plt.text(0.5,-6,(\"Erro Quadratico 5° Interação: \" +    (np.format_float_scientific(sum(x5R_MNQ[1]), precision = 3, exp_digits=1)))  , fontsize = 9)\n"
      ],
      "metadata": {
        "id": "ZFgv0z-Mlpew"
      },
      "execution_count": null,
      "outputs": []
    },
    {
      "cell_type": "code",
      "source": [
        ""
      ],
      "metadata": {
        "id": "BCDY8k7xTMBP"
      },
      "execution_count": null,
      "outputs": []
    }
  ]
}